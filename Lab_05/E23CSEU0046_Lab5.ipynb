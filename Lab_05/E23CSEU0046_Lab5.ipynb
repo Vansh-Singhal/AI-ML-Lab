{
  "cells": [
    {
      "cell_type": "markdown",
      "metadata": {
        "id": "PHR2HNguYswU"
      },
      "source": [
        "**Name - Vansh Singhal**\n",
        "<br>\n",
        "**Enrolment - E23CSEU0046**\n",
        "<br>\n",
        "**Date - 14th Aug, 2025**\n",
        "<br>\n",
        "**Lab - 05**"
      ]
    },
    {
      "cell_type": "code",
      "execution_count": 1,
      "metadata": {
        "id": "yKTOozrcuc4z"
      },
      "outputs": [],
      "source": [
        "import pandas as pd\n",
        "from sklearn.preprocessing import LabelEncoder, StandardScaler\n",
        "from sklearn.linear_model import LinearRegression\n",
        "from sklearn.metrics import mean_squared_error\n",
        "import numpy as np"
      ]
    },
    {
      "cell_type": "markdown",
      "metadata": {
        "id": "VSdHGOw0ZFxD"
      },
      "source": [
        "1.\tTo load the data and print first 5 rows."
      ]
    },
    {
      "cell_type": "code",
      "execution_count": 2,
      "metadata": {
        "colab": {
          "base_uri": "https://localhost:8080/"
        },
        "id": "6YuR0HH0ysKX",
        "outputId": "442219a6-b010-4863-f750-603714fe8b75"
      },
      "outputs": [
        {
          "name": "stdout",
          "output_type": "stream",
          "text": [
            "   age address famsize  reason  studytime  failures schoolsup famsup paid  \\\n",
            "0   18       U     GT3  course          2         0       yes     no   no   \n",
            "1   17       U     GT3  course          2         0        no    yes   no   \n",
            "2   15       U     LE3   other          2         3       yes     no  yes   \n",
            "3   15       U     GT3    home          3         0        no    yes  yes   \n",
            "4   16       U     GT3    home          2         0        no    yes  yes   \n",
            "\n",
            "  activities higher internet romantic  freetime  goout  health  absences  G1  \\\n",
            "0         no    yes       no       no         3      4       3         6  25   \n",
            "1         no    yes      yes       no         3      3       3         4  25   \n",
            "2         no    yes      yes       no         3      2       3        10  35   \n",
            "3        yes    yes      yes      yes         2      2       5         2  75   \n",
            "4         no    yes       no       no         3      2       5         4  30   \n",
            "\n",
            "   G2  G3  \n",
            "0  30  30  \n",
            "1  25  30  \n",
            "2  40  50  \n",
            "3  70  75  \n",
            "4  50  50  \n",
            "Index(['age', 'address', 'famsize', 'reason', 'studytime', 'failures',\n",
            "       'schoolsup', 'famsup', 'paid', 'activities', 'higher', 'internet',\n",
            "       'romantic', 'freetime', 'goout', 'health', 'absences', 'G1', 'G2',\n",
            "       'G3'],\n",
            "      dtype='object')\n"
          ]
        }
      ],
      "source": [
        "df = pd.read_csv(\"multiple_linear_data.csv\")\n",
        "print(df.head())\n",
        "le = LabelEncoder()\n",
        "print(df.columns)"
      ]
    },
    {
      "cell_type": "markdown",
      "metadata": {
        "id": "HajyrJ4EZJ39"
      },
      "source": [
        "2.\tTransform categorical features into numerical features. Use either one hot encoding, label encoding or any other suitable preprocessing technique."
      ]
    },
    {
      "cell_type": "code",
      "execution_count": 3,
      "metadata": {
        "id": "6WGno0ZYj9KV"
      },
      "outputs": [],
      "source": [
        "def encoder(df, l):\n",
        "  for i in l:\n",
        "    df[i] = le.fit_transform(df[i])\n",
        "    #df.drop(i, axis=1, inplace=True)\n",
        "\n",
        "  return df"
      ]
    },
    {
      "cell_type": "code",
      "execution_count": 4,
      "metadata": {
        "colab": {
          "base_uri": "https://localhost:8080/"
        },
        "id": "OEPF4aMJy6kb",
        "outputId": "99b5d66f-ae3d-4472-e07f-b4e964ad2942"
      },
      "outputs": [
        {
          "name": "stdout",
          "output_type": "stream",
          "text": [
            "     age  address  famsize  reason  studytime  failures  schoolsup  famsup  \\\n",
            "0     18        1        0       0          2         0          1       0   \n",
            "1     17        1        0       0          2         0          0       1   \n",
            "2     15        1        1       2          2         3          1       0   \n",
            "3     15        1        0       1          3         0          0       1   \n",
            "4     16        1        0       1          2         0          0       1   \n",
            "..   ...      ...      ...     ...        ...       ...        ...     ...   \n",
            "390   20        1        1       0          2         2          0       1   \n",
            "391   17        1        1       0          1         0          0       0   \n",
            "392   21        0        0       0          1         3          0       0   \n",
            "393   18        0        1       0          1         0          0       0   \n",
            "394   19        1        1       0          1         0          0       0   \n",
            "\n",
            "     paid  activities  higher  internet  romantic  freetime  goout  health  \\\n",
            "0       0           0       1         0         0         3      4       3   \n",
            "1       0           0       1         1         0         3      3       3   \n",
            "2       1           0       1         1         0         3      2       3   \n",
            "3       1           1       1         1         1         2      2       5   \n",
            "4       1           0       1         0         0         3      2       5   \n",
            "..    ...         ...     ...       ...       ...       ...    ...     ...   \n",
            "390     1           0       1         0         0         5      4       4   \n",
            "391     0           0       1         1         0         4      5       2   \n",
            "392     0           0       1         0         0         5      3       3   \n",
            "393     0           0       1         1         0         4      1       5   \n",
            "394     0           0       1         1         0         2      3       5   \n",
            "\n",
            "     absences  G1  G2  G3  \n",
            "0           6  25  30  30  \n",
            "1           4  25  25  30  \n",
            "2          10  35  40  50  \n",
            "3           2  75  70  75  \n",
            "4           4  30  50  50  \n",
            "..        ...  ..  ..  ..  \n",
            "390        11  45  45  45  \n",
            "391         3  70  80  80  \n",
            "392         3  50  40  35  \n",
            "393         0  55  60  50  \n",
            "394         5  40  45  45  \n",
            "\n",
            "[395 rows x 20 columns]\n",
            "Index(['age', 'address', 'famsize', 'reason', 'studytime', 'failures',\n",
            "       'schoolsup', 'famsup', 'paid', 'activities', 'higher', 'internet',\n",
            "       'romantic', 'freetime', 'goout', 'health', 'absences', 'G1', 'G2',\n",
            "       'G3'],\n",
            "      dtype='object')\n"
          ]
        }
      ],
      "source": [
        "cdf = df.copy()\n",
        "l = [\"address\", \"famsize\", \"reason\", \"schoolsup\", \"famsup\", \"paid\", \"activities\", \"higher\", \"internet\", \"romantic\"]\n",
        "ndf = encoder(cdf, l)\n",
        "print(ndf)\n",
        "print(ndf.columns)"
      ]
    },
    {
      "cell_type": "markdown",
      "metadata": {
        "id": "3BEKj9PRZNHt"
      },
      "source": [
        "3.\tDefine X matrix (independent features) and y vector (target feature)"
      ]
    },
    {
      "cell_type": "code",
      "execution_count": 5,
      "metadata": {
        "colab": {
          "base_uri": "https://localhost:8080/"
        },
        "id": "NY9UHIaJn_sX",
        "outputId": "3ac83075-8bb1-4bcb-dc2c-815267646ede"
      },
      "outputs": [
        {
          "name": "stdout",
          "output_type": "stream",
          "text": [
            "     age  address  famsize  studytime  failures  internet  freetime  health  \\\n",
            "0     18        1        0          2         0         0         3       3   \n",
            "1     17        1        0          2         0         1         3       3   \n",
            "2     15        1        1          2         3         1         3       3   \n",
            "3     15        1        0          3         0         1         2       5   \n",
            "4     16        1        0          2         0         0         3       5   \n",
            "..   ...      ...      ...        ...       ...       ...       ...     ...   \n",
            "390   20        1        1          2         2         0         5       4   \n",
            "391   17        1        1          1         0         1         4       2   \n",
            "392   21        0        0          1         3         0         5       3   \n",
            "393   18        0        1          1         0         1         4       5   \n",
            "394   19        1        1          1         0         1         2       5   \n",
            "\n",
            "     absences  G1  G2  \n",
            "0           6  25  30  \n",
            "1           4  25  25  \n",
            "2          10  35  40  \n",
            "3           2  75  70  \n",
            "4           4  30  50  \n",
            "..        ...  ..  ..  \n",
            "390        11  45  45  \n",
            "391         3  70  80  \n",
            "392         3  50  40  \n",
            "393         0  55  60  \n",
            "394         5  40  45  \n",
            "\n",
            "[395 rows x 11 columns]\n",
            "     G3\n",
            "0    30\n",
            "1    30\n",
            "2    50\n",
            "3    75\n",
            "4    50\n",
            "..   ..\n",
            "390  45\n",
            "391  80\n",
            "392  35\n",
            "393  50\n",
            "394  45\n",
            "\n",
            "[395 rows x 1 columns]\n"
          ]
        }
      ],
      "source": [
        "indep = ndf[[\"age\", \"address\", \"famsize\", \"studytime\", \"failures\", \"internet\", \"freetime\", \"health\", \"absences\", \"G1\", \"G2\"]]\n",
        "#indep = ndf[[\"studytime\", \"failures\", \"internet\"]]\n",
        "print(indep)\n",
        "targ = ndf[[\"G3\"]]\n",
        "print(targ)"
      ]
    },
    {
      "cell_type": "markdown",
      "metadata": {
        "id": "E3yxuvwOZPdX"
      },
      "source": [
        "4.\tTrain Linear Regression Model (sklearn.linear_model.LinearRegression class)"
      ]
    },
    {
      "cell_type": "markdown",
      "metadata": {
        "id": "_b7v5y1OZSDi"
      },
      "source": [
        "5.\tPrint 'Mean Squared Error' (MSE) obtained on the same dataset i.e. same X and y (sklearn.metrics.mean_squared_error function)"
      ]
    },
    {
      "cell_type": "code",
      "execution_count": 6,
      "metadata": {
        "colab": {
          "base_uri": "https://localhost:8080/"
        },
        "id": "dY_ZsIbYrLUc",
        "outputId": "e81089a6-2955-4c4a-f140-11f529dff4ca"
      },
      "outputs": [
        {
          "name": "stdout",
          "output_type": "stream",
          "text": [
            "Mean Square Value -> 87.92650561499903\n"
          ]
        }
      ],
      "source": [
        "lr = LinearRegression()\n",
        "lr.fit(indep, targ)\n",
        "y_pred = lr.predict(indep)\n",
        "ss = mean_squared_error(targ, y_pred)\n",
        "print(f\"Mean Square Value -> {ss}\")"
      ]
    },
    {
      "cell_type": "markdown",
      "metadata": {
        "id": "kuw9GUPaZUXF"
      },
      "source": [
        "6.\tPredict on a numpy array defined by you"
      ]
    },
    {
      "cell_type": "code",
      "execution_count": 7,
      "metadata": {
        "colab": {
          "base_uri": "https://localhost:8080/"
        },
        "id": "txLxKTwdZqsb",
        "outputId": "2e748c13-341f-49f8-c828-1d0f3a390fb9"
      },
      "outputs": [
        {
          "name": "stdout",
          "output_type": "stream",
          "text": [
            "91.78597440205957\n"
          ]
        },
        {
          "name": "stderr",
          "output_type": "stream",
          "text": [
            "c:\\Users\\ariha\\AppData\\Local\\Programs\\Python\\Python312\\Lib\\site-packages\\sklearn\\utils\\validation.py:2739: UserWarning: X does not have valid feature names, but LinearRegression was fitted with feature names\n",
            "  warnings.warn(\n"
          ]
        }
      ],
      "source": [
        "l = np.array([25, 1, 1, 10, 0, 1, 2, 7, 0, 100, 100]).reshape(1,-1)\n",
        "my_pred = lr.predict(l)\n",
        "print(my_pred[0][0])"
      ]
    },
    {
      "cell_type": "markdown",
      "metadata": {
        "id": "aYb_vTudhCx1"
      },
      "source": [
        "**FUN CHALLENGE**"
      ]
    },
    {
      "cell_type": "markdown",
      "metadata": {
        "id": "Z489IyGFhGWM"
      },
      "source": [
        "•\tStep-up challenge: Get down the MSE (mean squared error) below 3.25 using linear models"
      ]
    },
    {
      "cell_type": "code",
      "execution_count": 8,
      "metadata": {
        "colab": {
          "base_uri": "https://localhost:8080/"
        },
        "id": "1Atq9tdZX4W1",
        "outputId": "acae14df-cede-424f-914e-796739ee57ee"
      },
      "outputs": [
        {
          "name": "stdout",
          "output_type": "stream",
          "text": [
            "Mean Square Value -> 0.1679871945516699\n"
          ]
        }
      ],
      "source": [
        "norm = StandardScaler()\n",
        "x_scaled = norm.fit_transform(indep)\n",
        "y_scaled = norm.fit_transform(targ)\n",
        "lr = LinearRegression()\n",
        "lr.fit(x_scaled, y_scaled)\n",
        "y_pred = lr.predict(x_scaled)\n",
        "ss = mean_squared_error(y_scaled, y_pred)\n",
        "print(f\"Mean Square Value -> {ss}\")"
      ]
    }
  ],
  "metadata": {
    "colab": {
      "provenance": []
    },
    "kernelspec": {
      "display_name": "Python 3",
      "name": "python3"
    },
    "language_info": {
      "codemirror_mode": {
        "name": "ipython",
        "version": 3
      },
      "file_extension": ".py",
      "mimetype": "text/x-python",
      "name": "python",
      "nbconvert_exporter": "python",
      "pygments_lexer": "ipython3",
      "version": "3.12.4"
    }
  },
  "nbformat": 4,
  "nbformat_minor": 0
}
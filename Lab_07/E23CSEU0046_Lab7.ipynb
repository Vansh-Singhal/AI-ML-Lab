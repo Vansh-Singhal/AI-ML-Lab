{
 "cells": [
  {
   "cell_type": "markdown",
   "id": "bffbc0b6",
   "metadata": {},
   "source": [
    "**Vansh Singhal**\n",
    "<br>\n",
    "**Enrolment - E23CSEU0046**\n",
    "<br>\n",
    "**Batch - EB_02**\n",
    "<br>\n",
    "**Date - 21 Aug 2025**\n",
    "<br>\n",
    "**Lab - 07**\n",
    "<br>"
   ]
  },
  {
   "cell_type": "code",
   "execution_count": null,
   "id": "789b3e0b",
   "metadata": {},
   "outputs": [],
   "source": [
    "import numpy as np\n",
    "import matplotlib.pyplot as plt\n",
    "import pandas as pd\n",
    "from sklearn.linear_model import LinearRegression\n",
    "\n",
    "from sklearn.preprocessing import PolynomialFeatures\n",
    "from sklearn.model_selection import train_test_split\n",
    "from sklearn.metrics import r2_score, mean_absolute_error"
   ]
  },
  {
   "cell_type": "code",
   "execution_count": null,
   "id": "00e14012",
   "metadata": {},
   "outputs": [],
   "source": [
    "df = pd.read_csv(\"https://raw.githubusercontent.com/mwaskom/seaborn-data/master/mpg.csv\")\n",
    "print(df.head())"
   ]
  },
  {
   "cell_type": "code",
   "execution_count": null,
   "id": "2c098500",
   "metadata": {},
   "outputs": [],
   "source": [
    "lr = LinearRegression()\n",
    "\n",
    "# Drop missing values\n",
    "data = df.dropna()\n",
    "\n",
    "X = data[['horsepower']].values\n",
    "y = data['mpg'].values"
   ]
  },
  {
   "cell_type": "code",
   "execution_count": null,
   "id": "53cffc9d",
   "metadata": {},
   "outputs": [],
   "source": [
    "lin_reg = LinearRegression()\n",
    "\n",
    "poly2 = PolynomialFeatures(degree=2)\n",
    "poly3 = PolynomialFeatures(degree=3)\n",
    "\n",
    "X_poly2 = poly2.fit_transform(X)\n",
    "X_poly3 = poly3.fit_transform(X)\n",
    "\n",
    "poly2_reg = LinearRegression()\n",
    "poly3_reg = LinearRegression()\n"
   ]
  },
  {
   "cell_type": "code",
   "execution_count": null,
   "id": "1a84cd07",
   "metadata": {},
   "outputs": [],
   "source": [
    "X_train, X_test, y_train, y_test = train_test_split(X, y, test_size=0.2, random_state=42)\n",
    "\n",
    "lin_reg.fit(X_train, y_train)\n",
    "y_pred_lin = lin_reg.predict(X_test)\n",
    "\n",
    "X_train_poly2 = poly2.transform(X_train)\n",
    "X_test_poly2 = poly2.transform(X_test)\n",
    "poly2_reg.fit(X_train_poly2, y_train)\n",
    "y_pred_poly2 = poly2_reg.predict(X_test_poly2)\n",
    "\n",
    "\n",
    "X_train_poly3 = poly3.transform(X_train)\n",
    "X_test_poly3 = poly3.transform(X_test)\n",
    "poly3_reg.fit(X_train_poly3, y_train)\n",
    "y_pred_poly3 = poly3_reg.predict(X_test_poly3)"
   ]
  },
  {
   "cell_type": "code",
   "execution_count": null,
   "id": "a6d35f46",
   "metadata": {},
   "outputs": [],
   "source": [
    "# Linear Regression\n",
    "r2_lin = r2_score(y_test, y_pred_lin)\n",
    "mae_lin = mean_absolute_error(y_test, y_pred_lin)\n",
    "\n",
    "# Polynomial Regression (Degree 2)\n",
    "r2_poly2 = r2_score(y_test, y_pred_poly2)\n",
    "mae_poly2 = mean_absolute_error(y_test, y_pred_poly2)\n",
    "\n",
    "# Polynomial Regression (Degree 3)\n",
    "r2_poly3 = r2_score(y_test, y_pred_poly3)\n",
    "mae_poly3 = mean_absolute_error(y_test, y_pred_poly3)\n",
    "\n",
    "# Display metrics\n",
    "print(\"Performance Metrics:\")\n",
    "print(f\"Linear Regression     - R²: {r2_lin:.4f}, MAE: {mae_lin:.4f}\")\n",
    "print(f\"Polynomial (Degree 2) - R²: {r2_poly2:.4f}, MAE: {mae_poly2:.4f}\")\n",
    "print(f\"Polynomial (Degree 3) - R²: {r2_poly3:.4f}, MAE: {mae_poly3:.4f}\")"
   ]
  },
  {
   "cell_type": "code",
   "execution_count": null,
   "id": "770a632d",
   "metadata": {},
   "outputs": [],
   "source": [
    "# Sort values for smooth plotting\n",
    "X_range = np.linspace(X.min(), X.max(), 300).reshape(-1, 1)\n",
    "\n",
    "# Predictions\n",
    "y_lin_plot = lin_reg.predict(X_range)\n",
    "y_poly2_plot = poly2_reg.predict(poly2.transform(X_range))\n",
    "y_poly3_plot = poly3_reg.predict(poly3.transform(X_range))\n",
    "\n",
    "# Plot\n",
    "plt.figure(figsize=(12, 6))\n",
    "plt.scatter(X, y, color='gray', label='Data Points', alpha=0.5)\n",
    "plt.plot(X_range, y_lin_plot, label='Linear Regression', color='blue')\n",
    "plt.plot(X_range, y_poly2_plot, label='Polynomial Regression (Degree 2)', color='green')\n",
    "plt.plot(X_range, y_poly3_plot, label='Polynomial Regression (Degree 3)', color='red')\n",
    "plt.xlabel('Horsepower')\n",
    "plt.ylabel('MPG')\n",
    "plt.title('Regression Comparison')\n",
    "plt.legend()\n",
    "plt.grid(True)\n",
    "plt.show()\n"
   ]
  }
 ],
 "metadata": {
  "kernelspec": {
   "display_name": "Python 3",
   "language": "python",
   "name": "python3"
  },
  "language_info": {
   "name": "python",
   "version": "3.13.5"
  }
 },
 "nbformat": 4,
 "nbformat_minor": 5
}

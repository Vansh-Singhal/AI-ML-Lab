{
 "cells": [
  {
   "cell_type": "code",
   "execution_count": null,
   "id": "0e26b222",
   "metadata": {},
   "outputs": [],
   "source": [
    "**Vansh Singhal**\n",
    "<br>\n",
    "**Enrolment - E23CSEU0046**\n",
    "<br>\n",
    "**Batch - EB_02**\n",
    "<br>\n",
    "**Date - 02 Aug 2025**\n",
    "<br>\n",
    "**Lab - 10**\n",
    "<br>"
   ]
  },
  {
   "cell_type": "code",
   "execution_count": null,
   "id": "8d498479",
   "metadata": {},
   "outputs": [],
   "source": [
    " import numpy as np\n",
    " import pandas as pd\n",
    " import matplotlib.pyplot as plt\n",
    " import seaborn as sns\n",
    " from sklearn.model_selection import train_test_split\n",
    " from sklearn.ensemble import RandomForestClassifier"
   ]
  },
  {
   "cell_type": "code",
   "execution_count": null,
   "id": "81f75982",
   "metadata": {},
   "outputs": [],
   "source": [
    " df = pd.read_csv(\"winequality-white.csv\")\n",
    " df.head()"
   ]
  },
  {
   "cell_type": "code",
   "execution_count": null,
   "id": "14ce38f1",
   "metadata": {},
   "outputs": [],
   "source": [
    " X = df.drop('quality', axis=1)\n",
    " y = df['quality']\n",
    " def categorize_quality(score):\n",
    "    if score >= 7:\n",
    "        return 'best'\n",
    "    elif 4 <= score < 7:\n",
    "        return 'average'\n",
    "    else:\n",
    "        return 'poor'\n",
    " y_categories = y.apply(categorize_quality)\n",
    " y_categories\n",
    " category_mapping = {'poor': 0, 'average': 1, 'best': 2}\n",
    " # Map categories to numbers\n",
    " y_encoded = y_categories.map(category_mapping)\n",
    " y_encoded\n",
    "\n",
    "X_train, X_test, y_train, y_test = train_test_split(X, y, test_size=0.25, random)\n",
    "\n",
    "classifier = RandomForestClassifier()\n",
    " classifier.fit(X_train,y_train)\n",
    " # train model (Decision Tree Classifier)\n",
    " from sklearn.tree import DecisionTreeClassifier\n",
    " treeclassifier = DecisionTreeClassifier(criterion=\"entropy\", random_state=10)\n",
    " treeclassifier.fit(X_train,y_train)\n",
    "\n",
    "y_pred = classifier.predict(X_test)"
   ]
  },
  {
   "cell_type": "code",
   "execution_count": null,
   "id": "a1552497",
   "metadata": {},
   "outputs": [],
   "source": [
    "y_pred_ = treeclassifier.predict(X_test)\n",
    " print(\"Random Forest classifier\")\n",
    " # performance metrics\n",
    " from sklearn.metrics import confusion_matrix, accuracy_score, classification_rep\n",
    " print(\"confusion matrix: \")\n",
    " print(confusion_matrix(y_test, y_pred))\n",
    " print(\"accuracy score:\")\n",
    " print(accuracy_score(y_test, y_pred))\n",
    " print(\"classification report: \")\n",
    " print(classification_report(y_test, y_pred))\n",
    " print(\"Decision Tree Classifier\")\n",
    " # performance metrics\n",
    " from sklearn.metrics import confusion_matrix, accuracy_score, classification_rep\n",
    " print(\"confusion matrix: \")\n",
    " print(confusion_matrix(y_test, y_pred_))\n",
    " print(\"accuracy score:\")\n",
    " print(accuracy_score(y_test, y_pred_))\n",
    " print(\"classification report: \")\n",
    " print(classification_report(y_test, y_pred_))"
   ]
  }
 ],
 "metadata": {
  "language_info": {
   "name": "python"
  }
 },
 "nbformat": 4,
 "nbformat_minor": 5
}

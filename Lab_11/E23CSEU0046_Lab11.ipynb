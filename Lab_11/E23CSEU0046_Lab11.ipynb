{
 "cells": [
  {
   "cell_type": "code",
   "execution_count": null,
   "id": "ec121bf8",
   "metadata": {},
   "outputs": [],
   "source": [
    "**Vansh Singhal**\n",
    "<br>\n",
    "**Enrolment - E23CSEU0046**\n",
    "<br>\n",
    "**Batch - EB_02**\n",
    "<br>\n",
    "**Date - 4 Sep 2025**\n",
    "<br>\n",
    "**Lab - 11**\n",
    "<br>"
   ]
  },
  {
   "cell_type": "code",
   "execution_count": null,
   "id": "1a31961b",
   "metadata": {},
   "outputs": [],
   "source": [
    "data = \"\"\"\n",
    "Name,Gender,Age,Marks_Math,Marks_English,Marks_Science,Attendance,Grade\n",
    "Sneha Kumar,Female,20.0,68,49,87,67,Pass\n",
    "Ritu Kumar,Female,,60,73,63,82,Pass\n",
    "Deepak Singh,Male,19.0,50,58,97,95,Fail\n",
    "Anjali Gupta,Female,19.0,61,87,46,83,\n",
    "Meera Gupta,Female,20.0,69,72,46,80,Fail\n",
    "Sneha Kumar,Female,17.0,51,92,66,84,Fail\n",
    "Priya Gupta,Male,17.0,66,93,86,87,Fail\n",
    "Simran Verma,Male,20.0,55,49,91,62,\n",
    "Anjali Verma,Male,21.0,90,41,65,68,Fail\n",
    "Rohan Gupta,Female,18.0,43,59,58,68,Fail\n",
    "Rahul Singh,Male,18.0,92,36,64,87,Fail\n",
    "Manish Verma,Male,20.0,46,78,52,94,Pass\n",
    "Anjali Kumar,Female,17.0,75,84,84,63,Fail\n",
    "Vikas Gupta,Female,18.0,45,88,86,63,Pass\n",
    "Rohan Sharma,Male,21.0,57,60,88,93,Fail\n",
    "Suresh Gupta,Female,18.0,75,48,75,74,Fail\n",
    "Rahul Kumar,Male,20.0,96,74,65,75,Fail\n",
    "Simran Kumar,Female,21.0,57,81,97,83,Fail\n",
    "Ritu Kumar,Male,18.0,64,94,89,88,Fail\n",
    "Sanjay Kumar,Female,21.0,40,59,51,68,Fail\n",
    "Deepak Sharma,Male,17.0,83,42,68,70,Pass\n",
    "Karan Verma,Male,19.0,56,42,79,94,Pass\n",
    "Simran Verma,Female,,72,93,49,98,Fail\n",
    "Anjali Kumar,Male,18.0,80,62,51,68,Pass\n",
    "Kavita Kumar,Male,20.0,73,67,92,82,Pass\n",
    "Rohan Singh,Female,21.0,74,78,84,81,Pass\n",
    "Isha Gupta,Female,19.0,74,35,79,96,Pass\n",
    "Anjali Sharma,Male,19.0,40,39,70,73,Pass\n",
    "Suresh Sharma,Male,19.0,48,49,59,85,Pass\n",
    "Rahul Kumar,Female,18.0,99,47,95,91,Fail\n",
    "Vikas Singh,Male,17.0,91,66,48,89,Fail\n",
    "Anjali Gupta,Female,21.0,62,73,89,74,Fail\n",
    "Pooja Gupta,Female,19.0,68,70,57,91,Pass\n",
    "Priya Gupta,Female,19.0,90,56,72,61,Pass\n",
    "Vikas Singh,Female,18.0,84,91,97,65,Fail\n",
    "Anjali Kumar,Female,20.0,67,78,88,79,Pass\n",
    "Priya Singh,Male,19.0,97,89,72,84,Pass\n",
    "Meera Gupta,Female,17.0,40,91,71,72,Pass\n",
    "Meera Gupta,Male,17.0,42,73,50,67,Fail\n",
    "Isha Gupta,Female,19.0,48,71,77,83,Pass\n",
    "Suresh Singh,Male,19.0,93,66,76,83,Fail\n",
    "Deepak Singh,Male,17.0,91,83,93,71,Pass\n",
    "Rahul Singh,Male,18.0,42,83,81,76,Pass\n",
    "Suresh Sharma,Male,19.0,88,36,46,87,Fail\n",
    "Rohan Sharma,Female,21.0,71,67,45,78,Fail\n",
    "Arjun Verma,Male,,41,87,88,85,Pass\n",
    "Rahul Singh,Male,20.0,94,45,61,97,Fail\n",
    "Rahul Sharma,Female,21.0,91,68,50,81,Fail\n",
    "Simran Singh,Male,19.0,87,50,77,68,Pass\n",
    "Karan Verma,Male,20.0,98,40,60,88,Pass\n",
    "\"\"\"\n",
    "\n",
    "df = pd.read_csv(StringIO(data))\n",
    "print(df.head())"
   ]
  },
  {
   "cell_type": "code",
   "execution_count": null,
   "id": "cfdeb5f1",
   "metadata": {},
   "outputs": [],
   "source": [
    "data = df.dropna()\n",
    "data.loc[:, 'Gender'] = data['Gender'].map({'Female': 0, 'Male': 1})\n",
    "data = data.drop('Name', axis=1)"
   ]
  },
  {
   "cell_type": "code",
   "execution_count": null,
   "id": "56e95fbe",
   "metadata": {},
   "outputs": [],
   "source": [
    "X = data.drop('Grade', axis=1)\n",
    "y = data['Grade']"
   ]
  },
  {
   "cell_type": "code",
   "execution_count": null,
   "id": "80fb5ad6",
   "metadata": {},
   "outputs": [],
   "source": [
    "le = LabelEncoder()\n",
    "y = le.fit_transform(y)\n",
    "X_train, X_test, y_train, y_test = train_test_split(X, y, test_size=0.2, random_state=42)"
   ]
  },
  {
   "cell_type": "code",
   "execution_count": null,
   "id": "c0b5a982",
   "metadata": {},
   "outputs": [],
   "source": [
    "# Decision Tree\n",
    "dt = DecisionTreeClassifier(random_state=42)\n",
    "dt.fit(X_train, y_train)\n",
    "y_pred_dt = dt.predict(X_test)"
   ]
  },
  {
   "cell_type": "code",
   "execution_count": null,
   "id": "18a96f60",
   "metadata": {},
   "outputs": [],
   "source": [
    "#Random Forest\n",
    "rf = RandomForestClassifier(random_state=42)\n",
    "rf.fit(X_train, y_train)\n",
    "y_pred_rf = rf.predict(X_test)"
   ]
  },
  {
   "cell_type": "code",
   "execution_count": null,
   "id": "84cf251d",
   "metadata": {},
   "outputs": [],
   "source": [
    "print(\"Decision Tree Accuracy:\", accuracy_score(y_test, y_pred_dt))\n",
    "print(classification_report(y_test, y_pred_dt, target_names=le.classes_))\n",
    "\n",
    "print(\"Random Forest Accuracy:\", accuracy_score(y_test, y_pred_rf))\n",
    "print(classification_report(y_test, y_pred_rf, target_names=le.classes_))"
   ]
  },
  {
   "cell_type": "code",
   "execution_count": null,
   "id": "b68287cf",
   "metadata": {},
   "outputs": [],
   "source": [
    "plt.figure(figsize=(20,10))\n",
    "plot_tree(\n",
    "    dt, \n",
    "    feature_names=X.columns, \n",
    "    class_names=le.classes_, \n",
    "    filled=True,\n",
    "    rounded=True,\n",
    "    fontsize=10\n",
    ")\n",
    "plt.title(\"Decision Tree Visualization\")\n",
    "plt.show()\n",
    "\n",
    "# 2. Plot Feature Importances\n",
    "def plot_feature_importances(model, model_name):\n",
    "    importances = model.feature_importances_\n",
    "    indices = importances.argsort()[::-1]\n",
    "    plt.figure(figsize=(8,5))\n",
    "    plt.title(f\"{model_name} Feature Importances\")\n",
    "    plt.bar(range(len(importances)), importances[indices], color='skyblue', align='center')\n",
    "    plt.xticks(range(len(importances)), X.columns[indices], rotation=45)\n",
    "    plt.tight_layout()\n",
    "    plt.show()\n",
    "\n",
    "plot_feature_importances(dt, \"Decision Tree\")\n",
    "plot_feature_importances(rf, \"Random Forest\")"
   ]
  }
 ],
 "metadata": {
  "language_info": {
   "name": "python"
  }
 },
 "nbformat": 4,
 "nbformat_minor": 5
}
